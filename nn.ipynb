{
 "cells": [
  {
   "cell_type": "code",
   "execution_count": 1,
   "metadata": {},
   "outputs": [],
   "source": [
    "# !pip3 install torch torchvision torchaudio --index-url https://download.pytorch.org/whl/cu118\n",
    "# !pip install -U scikit-learn"
   ]
  },
  {
   "cell_type": "code",
   "execution_count": 2,
   "metadata": {},
   "outputs": [],
   "source": [
    "# !pip install pandas\n",
    "# !pip install matplotlib"
   ]
  },
  {
   "cell_type": "code",
   "execution_count": 3,
   "metadata": {},
   "outputs": [],
   "source": [
    "import pandas as pd\n",
    "import matplotlib.pyplot as plt\n",
    "import numpy \n",
    "import torch\n",
    "from torch import nn\n",
    "import sklearn"
   ]
  },
  {
   "cell_type": "code",
   "execution_count": 4,
   "metadata": {},
   "outputs": [
    {
     "data": {
      "text/plain": [
       "torch.Size([999, 40])"
      ]
     },
     "execution_count": 4,
     "metadata": {},
     "output_type": "execute_result"
    }
   ],
   "source": [
    "data_x = pd.read_csv('train.csv')\n",
    "x = data_x.values\n",
    "y = pd.read_csv('trainLabels.csv').values\n",
    "\n",
    "x = torch.from_numpy(x).type(torch.float)\n",
    "y = torch.from_numpy(y).type(torch.float)\n",
    "x = torch.round(x , decimals=3)\n",
    "# y = torch.round(y , decimals=3)\n",
    "x.shape"
   ]
  },
  {
   "cell_type": "code",
   "execution_count": 7,
   "metadata": {},
   "outputs": [],
   "source": [
    "from sklearn.model_selection import train_test_split\n",
    "x_train , x_test , y_train , y_test = train_test_split(x , y , test_size = 0.2 , shuffle=True)"
   ]
  },
  {
   "cell_type": "code",
   "execution_count": 30,
   "metadata": {},
   "outputs": [],
   "source": [
    "class Model(nn.Module):\n",
    "    def __init__(self):\n",
    "        super().__init__()\n",
    "        self.layer1 = nn.Sequential(\n",
    "            nn.Linear(40 , 20),\n",
    "            nn.Tanh(),\n",
    "            nn.Linear(20 , 20),\n",
    "            nn.Tanh(),\n",
    "            nn.Linear(20 , 1),\n",
    "        )\n",
    "        self.relu = nn.ReLU()\n",
    "        self.sigmoid = nn.Sigmoid()\n",
    "    def forward(self,x):\n",
    "        return self.sigmoid(self.layer1(x))\n",
    "\n",
    "model = Model() \n",
    "\n",
    "loss_fn = nn.BCELoss()\n",
    "optimizer = torch.optim.SGD(params=model.parameters(),\n",
    "                            lr=0.1)\n",
    "\n",
    "scheduler = torch.optim.lr_scheduler.StepLR(optimizer ,step_size=500 ,  gamma = 0.1)\n",
    "from sklearn.metrics import accuracy_score\n"
   ]
  },
  {
   "cell_type": "code",
   "execution_count": null,
   "metadata": {},
   "outputs": [],
   "source": [
    "# torch.manual_seed(42)\n",
    "\n",
    "epochs = 1000\n",
    "test_acc_list = []\n",
    "no_epoch = []\n",
    "train_acc = []\n",
    "\n",
    "for epoch in range(epochs):\n",
    "\n",
    "  model.train()\n",
    "\n",
    "  y_logits = model(x_train).squeeze()\n",
    "  # y_logits = torch.squeeze(y_logit)\n",
    "  y_preds = torch.round(y_logits)\n",
    "\n",
    "  loss = loss_fn(y_logits , y_train.squeeze())\n",
    "  acc = accuracy_score(y_true = y_train,\n",
    "                       y_pred = y_preds.detach().numpy()\n",
    "                       )\n",
    "  train_acc.append(acc)\n",
    "  optimizer.zero_grad()\n",
    "\n",
    "  loss.backward() # does back propogation\n",
    "\n",
    "  optimizer.step() # updates the parameters with the helpof gradient descent\n",
    "  scheduler.step()\n",
    "  model.eval()\n",
    "\n",
    "  with torch.inference_mode():\n",
    "    test_logits = model(x_test).squeeze()\n",
    "    test_pred= torch.round(test_logits)\n",
    "\n",
    "    test_loss = loss_fn(test_logits,\n",
    "                        y_test.squeeze())\n",
    "    test_acc = accuracy_score(y_true=y_test,\n",
    "                        y_pred = test_pred.detach().numpy())\n",
    "    test_acc_list.append(test_acc)\n",
    "    no_epoch.append(epoch)\n",
    "\n",
    "    if epoch%50 == 0:\n",
    "    # print(f\"Epoch: {epoch} | Loss: {loss} | Acc: {acc:.2f}% | Test Loss: {test_loss} | Test Accuracy: {test_acc:.2f}%\")\n",
    "      print(f\"epoch {epoch}  ||  loss {loss:.4f}  || train accuracy {acc:.4f} ||  test_loss {test_loss:.4f}  ||  test_accuracy {test_acc:.4f}\")"
   ]
  },
  {
   "cell_type": "code",
   "execution_count": 36,
   "metadata": {},
   "outputs": [],
   "source": [
    "test = pd.read_csv('test.csv').values\n",
    "import csv\n",
    "test_data = torch.from_numpy(test).type(torch.float)\n",
    "res = torch.round(model(test_data))"
   ]
  },
  {
   "cell_type": "code",
   "execution_count": 39,
   "metadata": {},
   "outputs": [],
   "source": [
    "# filename = \"university_records.csv\"\n",
    "l=[]\n",
    "d = ['Id' , 'Solution']\n",
    "# for i in range(res.shape[0]):\n",
    "#     l.append(str(int(res[i].item())))\n",
    "# writing to csv file\n",
    "with open('result.csv', 'w' , newline='') as csvfile:\n",
    "    # creating a csv dict writer object\n",
    "    writer = csv.writer(csvfile)\n",
    "    # writing headers (field names)\n",
    "    writer.writerow(d)\n",
    "    # val = torch.item(res)\n",
    "    # writing data rows\n",
    "    # writer.writerows(l)\n",
    "    y_lo = torch.round(res)\n",
    "    for i in range(res.shape[0]):\n",
    "     writer.writerow([i+1 , int(y_lo[i].item())])\n",
    "\n",
    "svc_out = torch.round(res)\n",
    "svc_out.squeeze()\n",
    "solution = pd.DataFrame({'Id': range(1, len(svc_out.squeeze()) + 1),\n",
    "               'Solution': svc_out.type(torch.int64).detach().numpy().squeeze()})\n",
    "solution.to_csv('solution.csv',index=False)"
   ]
  },
  {
   "cell_type": "markdown",
   "metadata": {},
   "source": [
    "# Model 2 with Sklearn's Logistic Regression Model"
   ]
  },
  {
   "cell_type": "code",
   "execution_count": null,
   "metadata": {},
   "outputs": [],
   "source": [
    "from sklearn.linear_model import LogisticRegression\n",
    "\n",
    "lg=LogisticRegression()\n",
    "lg.fit(x_train, y_train.squeeze())\n",
    "lg_out=lg.predict(x_test)\n",
    "accuracy_score(y_test , lg_out)\n"
   ]
  }
 ],
 "metadata": {
  "kernelspec": {
   "display_name": "yolov7",
   "language": "python",
   "name": "python3"
  },
  "language_info": {
   "codemirror_mode": {
    "name": "ipython",
    "version": 3
   },
   "file_extension": ".py",
   "mimetype": "text/x-python",
   "name": "python",
   "nbconvert_exporter": "python",
   "pygments_lexer": "ipython3",
   "version": "3.11.9"
  }
 },
 "nbformat": 4,
 "nbformat_minor": 2
}
